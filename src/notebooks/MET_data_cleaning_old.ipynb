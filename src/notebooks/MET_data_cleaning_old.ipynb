{
 "cells": [
  {
   "cell_type": "markdown",
   "id": "7ef9a324-8296-41a8-8332-fef748f91605",
   "metadata": {},
   "source": [
    "# MET Database Cleaning"
   ]
  },
  {
   "cell_type": "code",
   "execution_count": 1,
   "id": "83ab2931-373a-4eca-8541-ef7910e418bb",
   "metadata": {},
   "outputs": [],
   "source": [
    "import pandas as pd\n",
    "import numpy as np\n",
    "from functools import reduce\n",
    "from IPython.display import FileLink\n",
    "import pycountry_convert as pc\n",
    "\n",
    "pd.options.mode.chained_assignment = None"
   ]
  },
  {
   "cell_type": "markdown",
   "id": "6c50215b-174e-4f37-9281-73c85c4d3d15",
   "metadata": {},
   "source": [
    "Load in sample for MET museum data:\n",
    "\n",
    "* Link to [file download location](https://github.com/metmuseum/openaccess/blob/master/MetObjects.csv)"
   ]
  },
  {
   "cell_type": "code",
   "execution_count": 2,
   "id": "1be1d375-91e9-49c7-a66d-97bfe7de38bf",
   "metadata": {},
   "outputs": [
    {
     "data": {
      "text/plain": [
       "Index(['Object Number', 'Is Highlight', 'Is Timeline Work', 'Is Public Domain',\n",
       "       'Object ID', 'Gallery Number', 'Department', 'AccessionYear',\n",
       "       'Object Name', 'Title', 'Culture', 'Period', 'Dynasty', 'Reign',\n",
       "       'Portfolio', 'Constituent ID', 'Artist Role', 'Artist Prefix',\n",
       "       'Artist Display Name', 'Artist Display Bio', 'Artist Suffix',\n",
       "       'Artist Alpha Sort', 'Artist Nationality', 'Artist Begin Date',\n",
       "       'Artist End Date', 'Artist Gender', 'Artist ULAN URL',\n",
       "       'Artist Wikidata URL', 'Object Date', 'Object Begin Date',\n",
       "       'Object End Date', 'Medium', 'Dimensions', 'Credit Line',\n",
       "       'Geography Type', 'City', 'State', 'County', 'Country', 'Region',\n",
       "       'Subregion', 'Locale', 'Locus', 'Excavation', 'River', 'Classification',\n",
       "       'Rights and Reproduction', 'Link Resource', 'Object Wikidata URL',\n",
       "       'Metadata Date', 'Repository', 'Tags', 'Tags AAT URL',\n",
       "       'Tags Wikidata URL', 'Random'],\n",
       "      dtype='object')"
      ]
     },
     "execution_count": 2,
     "metadata": {},
     "output_type": "execute_result"
    }
   ],
   "source": [
    "og_metsample_df = pd.read_csv(\"../data/raw/met_raw.csv\", on_bad_lines=\"skip\")\n",
    "og_metsample_df.columns"
   ]
  },
  {
   "cell_type": "markdown",
   "id": "f030e2dd-2ea4-4cbc-b201-47502bae4051",
   "metadata": {},
   "source": [
    "Narrow down dataframe to columns that could be useful for our analysis"
   ]
  },
  {
   "cell_type": "code",
   "execution_count": 3,
   "id": "63c215c3-e3ff-492c-85b5-edfc242261d8",
   "metadata": {},
   "outputs": [
    {
     "data": {
      "text/html": [
       "<div>\n",
       "<style scoped>\n",
       "    .dataframe tbody tr th:only-of-type {\n",
       "        vertical-align: middle;\n",
       "    }\n",
       "\n",
       "    .dataframe tbody tr th {\n",
       "        vertical-align: top;\n",
       "    }\n",
       "\n",
       "    .dataframe thead th {\n",
       "        text-align: right;\n",
       "    }\n",
       "</style>\n",
       "<table border=\"1\" class=\"dataframe\">\n",
       "  <thead>\n",
       "    <tr style=\"text-align: right;\">\n",
       "      <th></th>\n",
       "      <th>Title</th>\n",
       "      <th>Department</th>\n",
       "      <th>AccessionYear</th>\n",
       "      <th>Artist Display Name</th>\n",
       "      <th>Artist Nationality</th>\n",
       "      <th>Culture</th>\n",
       "      <th>Country</th>\n",
       "      <th>Region</th>\n",
       "      <th>Subregion</th>\n",
       "      <th>Classification</th>\n",
       "      <th>Tags</th>\n",
       "      <th>Object Wikidata URL</th>\n",
       "    </tr>\n",
       "  </thead>\n",
       "  <tbody>\n",
       "    <tr>\n",
       "      <th>0</th>\n",
       "      <td>Calligraphic Exercise in Spanish</td>\n",
       "      <td>Drawings and Prints</td>\n",
       "      <td>2014.0</td>\n",
       "      <td>Anonymous</td>\n",
       "      <td></td>\n",
       "      <td>NaN</td>\n",
       "      <td>NaN</td>\n",
       "      <td>NaN</td>\n",
       "      <td>NaN</td>\n",
       "      <td>Albums|Drawings|Ornament &amp; Architecture</td>\n",
       "      <td>NaN</td>\n",
       "      <td>NaN</td>\n",
       "    </tr>\n",
       "    <tr>\n",
       "      <th>1</th>\n",
       "      <td>Les Spectacles de Paris, ou, Calendrier histor...</td>\n",
       "      <td>The Libraries</td>\n",
       "      <td>NaN</td>\n",
       "      <td>Joseph de Laporte|Duchesne</td>\n",
       "      <td>|French</td>\n",
       "      <td>NaN</td>\n",
       "      <td>France</td>\n",
       "      <td>NaN</td>\n",
       "      <td>NaN</td>\n",
       "      <td>NaN</td>\n",
       "      <td>NaN</td>\n",
       "      <td>NaN</td>\n",
       "    </tr>\n",
       "    <tr>\n",
       "      <th>2</th>\n",
       "      <td>Set of Sword Fittings (Mitokoromono) with Two ...</td>\n",
       "      <td>Arms and Armor</td>\n",
       "      <td>1945.0</td>\n",
       "      <td>Gotō Jōshin</td>\n",
       "      <td>Japanese</td>\n",
       "      <td>Japanese</td>\n",
       "      <td>NaN</td>\n",
       "      <td>NaN</td>\n",
       "      <td>NaN</td>\n",
       "      <td>Sword Furniture</td>\n",
       "      <td>NaN</td>\n",
       "      <td>https://www.wikidata.org/wiki/Q116250603</td>\n",
       "    </tr>\n",
       "    <tr>\n",
       "      <th>3</th>\n",
       "      <td>Coat</td>\n",
       "      <td>Costume Institute</td>\n",
       "      <td>2005.0</td>\n",
       "      <td>Christian Lacroix|Christian Lacroix|Birger Chr...</td>\n",
       "      <td>French|French|Scandinavian</td>\n",
       "      <td>French</td>\n",
       "      <td>NaN</td>\n",
       "      <td>NaN</td>\n",
       "      <td>NaN</td>\n",
       "      <td>NaN</td>\n",
       "      <td>NaN</td>\n",
       "      <td>NaN</td>\n",
       "    </tr>\n",
       "    <tr>\n",
       "      <th>4</th>\n",
       "      <td>Churinga</td>\n",
       "      <td>Arts of Africa, Oceania, and the Americas</td>\n",
       "      <td>1979.0</td>\n",
       "      <td>NaN</td>\n",
       "      <td>NaN</td>\n",
       "      <td>Mulga Downs Cave</td>\n",
       "      <td>Australia</td>\n",
       "      <td>Western Desert</td>\n",
       "      <td>NaN</td>\n",
       "      <td>Wood-Sculpture</td>\n",
       "      <td>NaN</td>\n",
       "      <td>NaN</td>\n",
       "    </tr>\n",
       "  </tbody>\n",
       "</table>\n",
       "</div>"
      ],
      "text/plain": [
       "                                               Title  \\\n",
       "0                   Calligraphic Exercise in Spanish   \n",
       "1  Les Spectacles de Paris, ou, Calendrier histor...   \n",
       "2  Set of Sword Fittings (Mitokoromono) with Two ...   \n",
       "3                                               Coat   \n",
       "4                                           Churinga   \n",
       "\n",
       "                                  Department  AccessionYear  \\\n",
       "0                        Drawings and Prints         2014.0   \n",
       "1                              The Libraries            NaN   \n",
       "2                             Arms and Armor         1945.0   \n",
       "3                          Costume Institute         2005.0   \n",
       "4  Arts of Africa, Oceania, and the Americas         1979.0   \n",
       "\n",
       "                                 Artist Display Name  \\\n",
       "0                                          Anonymous   \n",
       "1                         Joseph de Laporte|Duchesne   \n",
       "2                                        Gotō Jōshin   \n",
       "3  Christian Lacroix|Christian Lacroix|Birger Chr...   \n",
       "4                                                NaN   \n",
       "\n",
       "           Artist Nationality           Culture    Country          Region  \\\n",
       "0                                           NaN        NaN             NaN   \n",
       "1                     |French               NaN     France             NaN   \n",
       "2                    Japanese          Japanese        NaN             NaN   \n",
       "3  French|French|Scandinavian            French        NaN             NaN   \n",
       "4                         NaN  Mulga Downs Cave  Australia  Western Desert   \n",
       "\n",
       "  Subregion                           Classification Tags  \\\n",
       "0       NaN  Albums|Drawings|Ornament & Architecture  NaN   \n",
       "1       NaN                                      NaN  NaN   \n",
       "2       NaN                          Sword Furniture  NaN   \n",
       "3       NaN                                      NaN  NaN   \n",
       "4       NaN                           Wood-Sculpture  NaN   \n",
       "\n",
       "                        Object Wikidata URL  \n",
       "0                                       NaN  \n",
       "1                                       NaN  \n",
       "2  https://www.wikidata.org/wiki/Q116250603  \n",
       "3                                       NaN  \n",
       "4                                       NaN  "
      ]
     },
     "execution_count": 3,
     "metadata": {},
     "output_type": "execute_result"
    }
   ],
   "source": [
    "met_df = og_metsample_df[\n",
    "    [\n",
    "        \"Title\",\n",
    "        \"Department\",\n",
    "        \"AccessionYear\",\n",
    "        \"Artist Display Name\",\n",
    "        \"Artist Nationality\",\n",
    "        \"Culture\",\n",
    "        \"Country\",\n",
    "        \"Region\",\n",
    "        \"Subregion\",\n",
    "        \"Classification\",\n",
    "        \"Tags\",\n",
    "        \"Object Wikidata URL\",\n",
    "    ]\n",
    "]\n",
    "met_df.head()"
   ]
  },
  {
   "cell_type": "code",
   "execution_count": 4,
   "id": "15c05f46-7137-4b1f-b1d8-5157fda3bc93",
   "metadata": {},
   "outputs": [
    {
     "data": {
      "text/plain": [
       "Index(['Title', 'Department', 'AccessionYear', 'Artist Display Name',\n",
       "       'Artist Nationality', 'Culture', 'Country', 'Region', 'Subregion',\n",
       "       'Classification', 'Tags', 'Object Wikidata URL'],\n",
       "      dtype='object')"
      ]
     },
     "execution_count": 4,
     "metadata": {},
     "output_type": "execute_result"
    }
   ],
   "source": [
    "met_df.columns"
   ]
  },
  {
   "cell_type": "markdown",
   "id": "981dfd23-92d7-49fa-b57a-0b85537a8665",
   "metadata": {},
   "source": [
    "Create a classification system that prioritizes information from country and culture columns over other columns in filling out new country column, so we can extrapolate country from other columns if the information isn't in the original country column."
   ]
  },
  {
   "cell_type": "code",
   "execution_count": 5,
   "id": "1f76604d-3866-44ee-a150-34da3d09d2c6",
   "metadata": {},
   "outputs": [
    {
     "data": {
      "text/html": [
       "<div>\n",
       "<style scoped>\n",
       "    .dataframe tbody tr th:only-of-type {\n",
       "        vertical-align: middle;\n",
       "    }\n",
       "\n",
       "    .dataframe tbody tr th {\n",
       "        vertical-align: top;\n",
       "    }\n",
       "\n",
       "    .dataframe thead th {\n",
       "        text-align: right;\n",
       "    }\n",
       "</style>\n",
       "<table border=\"1\" class=\"dataframe\">\n",
       "  <thead>\n",
       "    <tr style=\"text-align: right;\">\n",
       "      <th></th>\n",
       "      <th>Title</th>\n",
       "      <th>Department</th>\n",
       "      <th>AccessionYear</th>\n",
       "      <th>Artist Display Name</th>\n",
       "      <th>Artist Nationality</th>\n",
       "      <th>Culture</th>\n",
       "      <th>Country</th>\n",
       "      <th>Region</th>\n",
       "      <th>Subregion</th>\n",
       "      <th>Classification</th>\n",
       "      <th>Tags</th>\n",
       "      <th>Object Wikidata URL</th>\n",
       "      <th>CombinedCountry</th>\n",
       "    </tr>\n",
       "  </thead>\n",
       "  <tbody>\n",
       "    <tr>\n",
       "      <th>0</th>\n",
       "      <td>Calligraphic Exercise in Spanish</td>\n",
       "      <td>Drawings and Prints</td>\n",
       "      <td>2014.0</td>\n",
       "      <td>Anonymous</td>\n",
       "      <td></td>\n",
       "      <td>NaN</td>\n",
       "      <td>NaN</td>\n",
       "      <td>NaN</td>\n",
       "      <td>NaN</td>\n",
       "      <td>Albums|Drawings|Ornament &amp; Architecture</td>\n",
       "      <td>NaN</td>\n",
       "      <td>NaN</td>\n",
       "      <td></td>\n",
       "    </tr>\n",
       "    <tr>\n",
       "      <th>1</th>\n",
       "      <td>Les Spectacles de Paris, ou, Calendrier histor...</td>\n",
       "      <td>The Libraries</td>\n",
       "      <td>NaN</td>\n",
       "      <td>Joseph de Laporte|Duchesne</td>\n",
       "      <td>|French</td>\n",
       "      <td>NaN</td>\n",
       "      <td>France</td>\n",
       "      <td>NaN</td>\n",
       "      <td>NaN</td>\n",
       "      <td>NaN</td>\n",
       "      <td>NaN</td>\n",
       "      <td>NaN</td>\n",
       "      <td>France</td>\n",
       "    </tr>\n",
       "    <tr>\n",
       "      <th>2</th>\n",
       "      <td>Set of Sword Fittings (Mitokoromono) with Two ...</td>\n",
       "      <td>Arms and Armor</td>\n",
       "      <td>1945.0</td>\n",
       "      <td>Gotō Jōshin</td>\n",
       "      <td>Japanese</td>\n",
       "      <td>Japanese</td>\n",
       "      <td>NaN</td>\n",
       "      <td>NaN</td>\n",
       "      <td>NaN</td>\n",
       "      <td>Sword Furniture</td>\n",
       "      <td>NaN</td>\n",
       "      <td>https://www.wikidata.org/wiki/Q116250603</td>\n",
       "      <td>Japanese</td>\n",
       "    </tr>\n",
       "    <tr>\n",
       "      <th>3</th>\n",
       "      <td>Coat</td>\n",
       "      <td>Costume Institute</td>\n",
       "      <td>2005.0</td>\n",
       "      <td>Christian Lacroix|Christian Lacroix|Birger Chr...</td>\n",
       "      <td>French|French|Scandinavian</td>\n",
       "      <td>French</td>\n",
       "      <td>NaN</td>\n",
       "      <td>NaN</td>\n",
       "      <td>NaN</td>\n",
       "      <td>NaN</td>\n",
       "      <td>NaN</td>\n",
       "      <td>NaN</td>\n",
       "      <td>French</td>\n",
       "    </tr>\n",
       "    <tr>\n",
       "      <th>4</th>\n",
       "      <td>Churinga</td>\n",
       "      <td>Arts of Africa, Oceania, and the Americas</td>\n",
       "      <td>1979.0</td>\n",
       "      <td>NaN</td>\n",
       "      <td>NaN</td>\n",
       "      <td>Mulga Downs Cave</td>\n",
       "      <td>Australia</td>\n",
       "      <td>Western Desert</td>\n",
       "      <td>NaN</td>\n",
       "      <td>Wood-Sculpture</td>\n",
       "      <td>NaN</td>\n",
       "      <td>NaN</td>\n",
       "      <td>Australia</td>\n",
       "    </tr>\n",
       "  </tbody>\n",
       "</table>\n",
       "</div>"
      ],
      "text/plain": [
       "                                               Title  \\\n",
       "0                   Calligraphic Exercise in Spanish   \n",
       "1  Les Spectacles de Paris, ou, Calendrier histor...   \n",
       "2  Set of Sword Fittings (Mitokoromono) with Two ...   \n",
       "3                                               Coat   \n",
       "4                                           Churinga   \n",
       "\n",
       "                                  Department  AccessionYear  \\\n",
       "0                        Drawings and Prints         2014.0   \n",
       "1                              The Libraries            NaN   \n",
       "2                             Arms and Armor         1945.0   \n",
       "3                          Costume Institute         2005.0   \n",
       "4  Arts of Africa, Oceania, and the Americas         1979.0   \n",
       "\n",
       "                                 Artist Display Name  \\\n",
       "0                                          Anonymous   \n",
       "1                         Joseph de Laporte|Duchesne   \n",
       "2                                        Gotō Jōshin   \n",
       "3  Christian Lacroix|Christian Lacroix|Birger Chr...   \n",
       "4                                                NaN   \n",
       "\n",
       "           Artist Nationality           Culture    Country          Region  \\\n",
       "0                                           NaN        NaN             NaN   \n",
       "1                     |French               NaN     France             NaN   \n",
       "2                    Japanese          Japanese        NaN             NaN   \n",
       "3  French|French|Scandinavian            French        NaN             NaN   \n",
       "4                         NaN  Mulga Downs Cave  Australia  Western Desert   \n",
       "\n",
       "  Subregion                           Classification Tags  \\\n",
       "0       NaN  Albums|Drawings|Ornament & Architecture  NaN   \n",
       "1       NaN                                      NaN  NaN   \n",
       "2       NaN                          Sword Furniture  NaN   \n",
       "3       NaN                                      NaN  NaN   \n",
       "4       NaN                           Wood-Sculpture  NaN   \n",
       "\n",
       "                        Object Wikidata URL CombinedCountry  \n",
       "0                                       NaN                  \n",
       "1                                       NaN          France  \n",
       "2  https://www.wikidata.org/wiki/Q116250603        Japanese  \n",
       "3                                       NaN          French  \n",
       "4                                       NaN       Australia  "
      ]
     },
     "execution_count": 5,
     "metadata": {},
     "output_type": "execute_result"
    }
   ],
   "source": [
    "country_classification_columns = (\n",
    "    \"Country\",\n",
    "    \"Culture\",\n",
    "    \"Artist Nationality\",\n",
    "    \"Region\",\n",
    "    \"Subregion\",\n",
    "    \"Tags\",\n",
    ")\n",
    "met_df[\"CombinedCountry\"] = reduce(\n",
    "    lambda x, y: x.combine_first(met_df[y]),\n",
    "    country_classification_columns,\n",
    "    met_df[country_classification_columns[0]],\n",
    ")\n",
    "met_df.head()"
   ]
  },
  {
   "cell_type": "markdown",
   "id": "555d49ff-538f-4cd2-94b3-a5292937513d",
   "metadata": {},
   "source": [
    "Check number of NaN values in CombinedCountry before mapping"
   ]
  },
  {
   "cell_type": "code",
   "execution_count": 6,
   "id": "74981ef4-adf8-4e0d-803d-5d5136c32316",
   "metadata": {},
   "outputs": [
    {
     "data": {
      "text/plain": [
       "Title                    8884\n",
       "Department                  0\n",
       "AccessionYear            1219\n",
       "Artist Display Name     62517\n",
       "Artist Nationality      62517\n",
       "Culture                 85752\n",
       "Country                126584\n",
       "Region                 140290\n",
       "Subregion              143162\n",
       "Classification          24330\n",
       "Tags                    90312\n",
       "Object Wikidata URL    128546\n",
       "CombinedCountry          1718\n",
       "dtype: int64"
      ]
     },
     "execution_count": 6,
     "metadata": {},
     "output_type": "execute_result"
    }
   ],
   "source": [
    "met_df.isna().sum()"
   ]
  },
  {
   "cell_type": "markdown",
   "id": "131bf79d-be4f-453a-b7a1-36edd0bf8600",
   "metadata": {},
   "source": [
    "Load in countries CSV and extract only the relevant columns"
   ]
  },
  {
   "cell_type": "code",
   "execution_count": 7,
   "id": "3dc62e7d-b0a9-4cdb-a686-d1a00e662898",
   "metadata": {},
   "outputs": [],
   "source": [
    "country_terms = pd.read_csv(\"../data/interim/countries.csv\")\n",
    "country_terms = country_terms[\n",
    "    [\n",
    "        \"name.common\",\n",
    "        \"name.official\",\n",
    "        \"capital\",\n",
    "        \"altSpellings\",\n",
    "        \"demonyms.eng.m\",\n",
    "        \"demonyms.eng.f\",\n",
    "    ]\n",
    "]"
   ]
  },
  {
   "cell_type": "markdown",
   "id": "83f8381a-f7bd-4523-8b3d-6b03446f94a1",
   "metadata": {},
   "source": [
    "Drop rows that are causing issues with mapping due to same demonym as another row becaue the countries are not legitimately in dataframe"
   ]
  },
  {
   "cell_type": "code",
   "execution_count": 8,
   "id": "a68f5dc6-1d7b-466b-8777-634028b8c569",
   "metadata": {},
   "outputs": [],
   "source": [
    "country_terms = country_terms[\n",
    "    country_terms[\"name.common\"] != \"British Indian Ocean Territory\"\n",
    "]\n",
    "country_terms = country_terms[\n",
    "    country_terms[\"name.common\"] != \"United States Minor Outlying Islands\"\n",
    "]"
   ]
  },
  {
   "cell_type": "markdown",
   "id": "0c3a6b35-a3e9-49e6-aa4c-2a2df4adf3ae",
   "metadata": {},
   "source": [
    "Adding autonomous regions as countries to avoid geographic confusion"
   ]
  },
  {
   "cell_type": "code",
   "execution_count": 9,
   "id": "5bd3d15b-a173-48bc-a08d-d7273a0a9788",
   "metadata": {},
   "outputs": [],
   "source": [
    "new_rows = pd.DataFrame(\n",
    "    {\n",
    "        \"name.common\": [\"French Polynesia\", \"Nepal\", \"Tibet\"],\n",
    "        \"demonyms.eng.m\": [\"French Polynesian\", \"Nepalese\", \"Tibetan\"],\n",
    "    }\n",
    ")\n",
    "country_terms = pd.concat([country_terms, new_rows], ignore_index=True)"
   ]
  },
  {
   "cell_type": "markdown",
   "id": "0838cb5b-dc9d-4144-aac9-0edc435afa01",
   "metadata": {},
   "source": [
    "Changing NaN values to 'no data' so blank cells in column are not mapped to last country with a NaN value"
   ]
  },
  {
   "cell_type": "code",
   "execution_count": 10,
   "id": "069e67c9-a92f-49f8-9c83-3852502c01ec",
   "metadata": {},
   "outputs": [
    {
     "data": {
      "text/html": [
       "<div>\n",
       "<style scoped>\n",
       "    .dataframe tbody tr th:only-of-type {\n",
       "        vertical-align: middle;\n",
       "    }\n",
       "\n",
       "    .dataframe tbody tr th {\n",
       "        vertical-align: top;\n",
       "    }\n",
       "\n",
       "    .dataframe thead th {\n",
       "        text-align: right;\n",
       "    }\n",
       "</style>\n",
       "<table border=\"1\" class=\"dataframe\">\n",
       "  <thead>\n",
       "    <tr style=\"text-align: right;\">\n",
       "      <th></th>\n",
       "      <th>name.common</th>\n",
       "      <th>name.official</th>\n",
       "      <th>capital</th>\n",
       "      <th>altSpellings</th>\n",
       "      <th>demonyms.eng.m</th>\n",
       "      <th>demonyms.eng.f</th>\n",
       "    </tr>\n",
       "  </thead>\n",
       "  <tbody>\n",
       "    <tr>\n",
       "      <th>241</th>\n",
       "      <td>Vanuatu</td>\n",
       "      <td>Republic of Vanuatu</td>\n",
       "      <td>Port Vila</td>\n",
       "      <td>VU,Republic of Vanuatu,Ripablik blong Vanuatu,...</td>\n",
       "      <td>Ni-Vanuatu</td>\n",
       "      <td>Ni-Vanuatu</td>\n",
       "    </tr>\n",
       "    <tr>\n",
       "      <th>242</th>\n",
       "      <td>Wallis and Futuna</td>\n",
       "      <td>Territory of the Wallis and Futuna Islands</td>\n",
       "      <td>Mata-Utu</td>\n",
       "      <td>WF,Territory of the Wallis and Futuna Islands,...</td>\n",
       "      <td>Wallis and Futuna Islander</td>\n",
       "      <td>Wallis and Futuna Islander</td>\n",
       "    </tr>\n",
       "    <tr>\n",
       "      <th>243</th>\n",
       "      <td>Samoa</td>\n",
       "      <td>Independent State of Samoa</td>\n",
       "      <td>Apia</td>\n",
       "      <td>WS,Independent State of Samoa,Malo Saʻoloto Tu...</td>\n",
       "      <td>Samoan</td>\n",
       "      <td>Samoan</td>\n",
       "    </tr>\n",
       "    <tr>\n",
       "      <th>244</th>\n",
       "      <td>Yemen</td>\n",
       "      <td>Republic of Yemen</td>\n",
       "      <td>Sana'a</td>\n",
       "      <td>YE,Yemeni Republic,al-Jumhūriyyah al-Yamaniyyah</td>\n",
       "      <td>Yemeni</td>\n",
       "      <td>Yemeni</td>\n",
       "    </tr>\n",
       "    <tr>\n",
       "      <th>245</th>\n",
       "      <td>South Africa</td>\n",
       "      <td>Republic of South Africa</td>\n",
       "      <td>Pretoria,Bloemfontein,Cape Town</td>\n",
       "      <td>ZA,RSA,Suid-Afrika,Republic of South Africa</td>\n",
       "      <td>South African</td>\n",
       "      <td>South African</td>\n",
       "    </tr>\n",
       "    <tr>\n",
       "      <th>246</th>\n",
       "      <td>Zambia</td>\n",
       "      <td>Republic of Zambia</td>\n",
       "      <td>Lusaka</td>\n",
       "      <td>ZM,Republic of Zambia</td>\n",
       "      <td>Zambian</td>\n",
       "      <td>Zambian</td>\n",
       "    </tr>\n",
       "    <tr>\n",
       "      <th>247</th>\n",
       "      <td>Zimbabwe</td>\n",
       "      <td>Republic of Zimbabwe</td>\n",
       "      <td>Harare</td>\n",
       "      <td>ZW,Republic of Zimbabwe</td>\n",
       "      <td>Zimbabwean</td>\n",
       "      <td>Zimbabwean</td>\n",
       "    </tr>\n",
       "    <tr>\n",
       "      <th>248</th>\n",
       "      <td>French Polynesia</td>\n",
       "      <td>no data</td>\n",
       "      <td>no data</td>\n",
       "      <td>no data</td>\n",
       "      <td>French Polynesian</td>\n",
       "      <td>no data</td>\n",
       "    </tr>\n",
       "    <tr>\n",
       "      <th>249</th>\n",
       "      <td>Nepal</td>\n",
       "      <td>no data</td>\n",
       "      <td>no data</td>\n",
       "      <td>no data</td>\n",
       "      <td>Nepalese</td>\n",
       "      <td>no data</td>\n",
       "    </tr>\n",
       "    <tr>\n",
       "      <th>250</th>\n",
       "      <td>Tibet</td>\n",
       "      <td>no data</td>\n",
       "      <td>no data</td>\n",
       "      <td>no data</td>\n",
       "      <td>Tibetan</td>\n",
       "      <td>no data</td>\n",
       "    </tr>\n",
       "  </tbody>\n",
       "</table>\n",
       "</div>"
      ],
      "text/plain": [
       "           name.common                               name.official  \\\n",
       "241            Vanuatu                         Republic of Vanuatu   \n",
       "242  Wallis and Futuna  Territory of the Wallis and Futuna Islands   \n",
       "243              Samoa                  Independent State of Samoa   \n",
       "244              Yemen                           Republic of Yemen   \n",
       "245       South Africa                    Republic of South Africa   \n",
       "246             Zambia                          Republic of Zambia   \n",
       "247           Zimbabwe                        Republic of Zimbabwe   \n",
       "248   French Polynesia                                     no data   \n",
       "249              Nepal                                     no data   \n",
       "250              Tibet                                     no data   \n",
       "\n",
       "                             capital  \\\n",
       "241                        Port Vila   \n",
       "242                         Mata-Utu   \n",
       "243                             Apia   \n",
       "244                           Sana'a   \n",
       "245  Pretoria,Bloemfontein,Cape Town   \n",
       "246                           Lusaka   \n",
       "247                           Harare   \n",
       "248                          no data   \n",
       "249                          no data   \n",
       "250                          no data   \n",
       "\n",
       "                                          altSpellings  \\\n",
       "241  VU,Republic of Vanuatu,Ripablik blong Vanuatu,...   \n",
       "242  WF,Territory of the Wallis and Futuna Islands,...   \n",
       "243  WS,Independent State of Samoa,Malo Saʻoloto Tu...   \n",
       "244    YE,Yemeni Republic,al-Jumhūriyyah al-Yamaniyyah   \n",
       "245        ZA,RSA,Suid-Afrika,Republic of South Africa   \n",
       "246                              ZM,Republic of Zambia   \n",
       "247                            ZW,Republic of Zimbabwe   \n",
       "248                                            no data   \n",
       "249                                            no data   \n",
       "250                                            no data   \n",
       "\n",
       "                 demonyms.eng.m              demonyms.eng.f  \n",
       "241                  Ni-Vanuatu                  Ni-Vanuatu  \n",
       "242  Wallis and Futuna Islander  Wallis and Futuna Islander  \n",
       "243                      Samoan                      Samoan  \n",
       "244                      Yemeni                      Yemeni  \n",
       "245               South African               South African  \n",
       "246                     Zambian                     Zambian  \n",
       "247                  Zimbabwean                  Zimbabwean  \n",
       "248           French Polynesian                     no data  \n",
       "249                    Nepalese                     no data  \n",
       "250                     Tibetan                     no data  "
      ]
     },
     "execution_count": 10,
     "metadata": {},
     "output_type": "execute_result"
    }
   ],
   "source": [
    "country_terms.fillna(\"no data\", inplace=True)\n",
    "country_terms.tail(10)"
   ]
  },
  {
   "cell_type": "markdown",
   "id": "4af1cca6-1c73-41b1-99bf-f1d04b071ead",
   "metadata": {},
   "source": [
    "Create dictionary from country_terms CSV file, making all alternative names map to common name"
   ]
  },
  {
   "cell_type": "code",
   "execution_count": 11,
   "id": "3ec88db2-3cfc-4107-8c1b-a3d69890c3f1",
   "metadata": {},
   "outputs": [],
   "source": [
    "country_map = {}\n",
    "\n",
    "for _, row in country_terms.iterrows():\n",
    "    official_name = row[\"name.common\"]\n",
    "    country_map[official_name] = official_name\n",
    "\n",
    "    for col in country_terms.columns:\n",
    "        if col != \"name.common\":\n",
    "            country_map[row[col]] = official_name"
   ]
  },
  {
   "cell_type": "markdown",
   "id": "63ab2e54-cf0a-48b7-821b-8e4d42566e2b",
   "metadata": {},
   "source": [
    "Add alternate or ancient country names that are not in the original dictionary "
   ]
  },
  {
   "cell_type": "code",
   "execution_count": 12,
   "id": "9577252a-2e54-45da-9992-c40106db5493",
   "metadata": {
    "editable": true,
    "scrolled": true,
    "slideshow": {
     "slide_type": ""
    },
    "tags": []
   },
   "outputs": [],
   "source": [
    "country_map.update(\n",
    "    {\n",
    "        \"Netherlandish\": \"Netherlands\",\"Bohemian\": \"Czechia\",\"Byzantine Egypt\": \"Egypt\",\n",
    "        \"Flemish\": \"Belgium\",\"Scottish\": \"United Kingdom\",\"Welsh\": \"United Kingdom\",\n",
    "        \"Korea\": \"Korea\",\"England\": \"United Kingdom\",\"Scotland\": \"United Kingdom\",\n",
    "        \"Wales\": \"United Kingdom\",\"Sumerian\": \"Iraq\",\"Mesopotamia\": \"Iraq\",\n",
    "        \"Etruscan\": \"Italy\",\"Minoan\": \"Greece\",\"West Bengal\": \"India\",\n",
    "        \"Vendel\": \"Sweden\",\"Edomite\": \"Jordan\",\"Sino-Tibet\": \"Tibet\",\n",
    "        \"Philippine\": \"Philippines\",\"North China\": \"China\",\"Alsatian\": \"France\",\n",
    "        \"Côte d'Ivoire\": \"Ivory Coast\",\"Malayan\": \"Malaysia\",\"Mycenaean\": \"Greece\",\n",
    "        \"Republic of Congo\": \"DR Congo\",\"Hittite\": \"Turkey\",\"Sasanian\": \"Iran\",\n",
    "        \"Sarawak\": \"Malaysia\",\"Aegean\": \"Greece\",\"South India\": \"India\",\n",
    "        \"North German\": \"Germany\",\"Italic\": \"Italy\",\"Formosan\": \"Taiwan\",\n",
    "        \"South Netherlands\": \"Netherlands\",\"Elamite\": \"Iran\",\"Javanese\": \"Indonesia\",\n",
    "        \"North America\": \"United States\",\"Sicilian\": \"Italy\",\"Hattian\": \"Turkey\",\n",
    "        \"America\": \"United States\",\"Macedonia\": \"North Macedonia\",\"Yi\": \"China\",\n",
    "        \"Greek Islands\": \"Greece\",\"Greek (Attic)\": \"Greece\",\"Thailand (Ban Chiang)\": \"Thailand\",\n",
    "        \"North French\": \"France\",\"Indian\": \"India\",\"Avar\": \"Russia\",\n",
    "        \"South Netherlandish\": \"Netherlands\",\"Alanic\": \"Russia\",\"Caroline Islands\": \"Palau\",\n",
    "        \"Southern German\": \"German\",\"Native American\": \"United States\",\"Celtic\": \"United Kingdom\",\n",
    "        \"Cycladic\": \"Greece\",\"Mangareva\": \"French Polynesia\",\"Burma\": \"Myanmar\",\n",
    "        \"Franco-Netherlandish\": \"France\",\"the Republic of Congo\": \"DR Congo\",\"Persian\": \"Iran\",\n",
    "        \"Persia\": \"Iran\",\"Rhodian\": \"Greece\",\"Indus\": \"Pakistan\",\n",
    "        \"Nabataean\": \"Jordan\",\"Yortan\": \"Turkey\",\"North Spanish\": \"Spain\",\n",
    "        \"Argentinian\": \"Argentina\",\"Swiss French\": \"Switzerland\",\"Campanian\": \"Italy\",\n",
    "        \"The Netherlands\": \"Netherlands\",\"South Indian\": \"India\",\"USA\": \"United States\",\n",
    "        \"Façon de Venise\": \"Italy\",\"Venetian\": \"Italy\",\"Lydian\": \"Turkey\",\n",
    "        \"Deccan\": \"India\",\"Sarmatian\": \"Iran\",\"Western Turkmenistan\": \"Turkmenistan\",\n",
    "        \"Western Iran\": \"Iran\",\"Italic-Native\": \"Italy\",\"Villanovan\": \"Italy\",\n",
    "        \"Baluchistan\": \"Pakistan\",\"South Italian\": \"Italy\",\"South German\": \"Germany\",\n",
    "        \"Western Tibet\": \"Tibet\",\"west-central Turkey\": \"Turkey\",\"West Indian\": \"India\",\n",
    "        \"Akkadian\": \"Iraq\",\"South Netherland\": \"Netherlands\",\"Chemehuevi\": \"United States\",\n",
    "        \"Sumatran\": \"Indonesia\",\"Gemany\": \"Germany\",\"Egypt possibly\": \"Egypt\",\n",
    "        \"Coptic\": \"Egypt\",\"Xiongnu\": \"Mongolia\",\"Phoenician\": \"Lebanon\",\n",
    "        \"Mitanni\": \"Turkey\",\"North Netherlandish\": \"Netherlands\",\"Indigenous American\": \"United States\",\n",
    "        \"Icelandic\": \"Iceland\",\"Nias\": \"Indonesia\",\"North Indian\": \"India\",\n",
    "        \"Central India\": \"India\",\"Helladic\": \"Greece\",\"Marquesas Islands\": \"French Polynesia\",\n",
    "        \"Nubia\": \"Sudan\",\"Dyak\": \"Indonesia\",\"North Netherland\": \"Netherlands\",\n",
    "        \"Anatolia\": \"Turkey\",\"Silesian\": \"Poland\",\"Nias people\": \"Indonesia\",\n",
    "        \"Greek Neolithic\": \"Greece\",\"Ubaid\": \"Iraq\",\"North Netherlands\": \"Netherlands\",\n",
    "        \"Ottoman\": \"Turkey\",\"Anglo-Saxon\": \"United Kingdom\",\"Saxon\": \"Germany\",\n",
    "        \"Phrygian\": \"Turkey\",\"Sassanian\": \"Iran\",\"Catalan\": \"Spain\",\n",
    "        \"Chimú\": \"Peru\",\"Siberia\": \"Russia\",\"Democratic Republic of Congo\": \"DR Congo\",\n",
    "        \"Urartian\": \"Armenia\",\"Neo-Sumerian\": \"Iraq\",\"New Guinea\": \"Australia\",\n",
    "        \"Cretan\": \"Greece\",\"Babylonian\": \"Iraq\",\"Indonesia(\": \"Indonesia\",\n",
    "        \"Russia Federation\": \"Russia\",\"Borneo\": \"Indonesia\",\"Minangkabau\": \"Indonesia\",\n",
    "        \"Republic of Kiribati\": \"Kiribati\",\"Lapland\": \"Finland\",\"Vietnam(\": \"Vietnam\",\n",
    "        \"Balinese\": \"Indonesia\",\"Egyptian possibly\": \"Egypt\",\"First Nations\": \"Canada\",\n",
    "        \"South China\": \"China\",\"North Central Indian\": \"India\",\"Buganda\": \"Uganda\",\n",
    "        \"Northern Italian\": \"Italy\",\"Madurese\": \"Indonesia\",\"Praenestine\": \"Italy\",\n",
    "        \"Kirghiztan\": \"Kyrgyzstan\",\"Tuscany\": \"Italy\",\"North France\": \"France\",\n",
    "        \"Canaanite\": \"Palestine\",\"North Italian\": \"Italy\",\"Western Australia\": \"Australia\",\n",
    "        \"Façcon de Venise\": \"Italy\",\"Madura\": \"Indonesia\",\"Sardinian\": \"Italy\",\n",
    "        \"Sienese\": \"Italy\",\"Venice\": \"Italy\",\"Sulawesi\": \"Indonesia\",\n",
    "        \"Western India\": \"India\",\"Euboean\": \"Greece\",\"Congo\": \"DR Congo\",\n",
    "        \"Southwestern German\": \"Germany\",\"Rumanian\": \"Romania\",\"Central Tibet\": \"Tibet\",\n",
    "        \"Sinhala\": \"Sri Lanka\",\"Proto-Elamite\": \"Iran\",\"Ceylonese\": \"Sri Lanka\",\n",
    "        \"Ojibwe\": \"Canada\",\"North India\": \"India\",\"Anatolian\": \"Turkey\",\n",
    "        \"Kuna\": \"Panama\",\"Livonian\": \"Latvia\",\"Austia\": \"Austria\",\n",
    "        \"British and American\": \"United Kingdom\",\"Batak\": \"Indonesia\",\"Locrian\": \"Greece\",\n",
    "        \"Argentinean\": \"Argentina\",\"North Central Thailand\": \"Thailand\",\"northern France\": \"France\",\n",
    "        \"Northwestern Iran\": \"Iran\",\"Flanders\": \"Belgium\",\"Crimean\": \"Ukraine\",\n",
    "        \"Bornean\": \"Indonesia\",\"Leipzig\": \"Germany\",\"iran\": \"Iran\",\n",
    "        \"Alemannic\": \"Switzerland\",\"Friesland\": \"Netherlands\",\"Southwestern Iran\": \"Iran\",\n",
    "        \"Diné\": \"United States\",\"German(\": \"Germany\",\"Southwest Italian\": \"Italy\",\n",
    "        \"Greenlandish\": \"Denmark\",\"Cote d'Ivoire\": \"Ivory Coast\",\"South French\": \"France\",\n",
    "        \"Tewa\": \"United States\",\"Southern French\": \"France\",\"Central Italian\": \"Italy\",\n",
    "        \"Central Turkey\": \"Turkey\",\"English\": \"United Kingdom\",\"Volga region\": \"Russia\",\n",
    "        \"Central Italy\": \"Italy\",\"West Central Turkey\": \"Turkey\",\"Bohemia\": \"Czechia\",\n",
    "        \"southern England\": \"United Kingdom\",\"Dimini culture\": \"Greece\",\"the Netherlands\": \"Netherlands\",\n",
    "        \"Slovakian\": \"Slovakia\",\"Native Italic\": \"Italy\",\"Façon de venise\": \"Italy\",\n",
    "        \"Antwerp\": \"Belgium\",\"Peninsular Thailand\": \"Thailand\",\"Sesklo culture\": \"Greece\",\n",
    "        \"North Swiss\": \"Switzerland\",\"Siberian\": \"Russia\",\"Apuilan\": \"Italy\",\n",
    "        \"Republic of  Cameroon\": \"Cameroon\",\"Central Indian\": \"India\",\"Corsican\": \"France\",\n",
    "        \"Southern Netherlandish\": \"Netherlands\",\"Central Iran\": \"Iran\",\"Hacilar\": \"Turkey\",\n",
    "        \"Carthaginian\": \"Tunisia\",\"Circassian\": \"Russia\",\"Isin-Larsa\": \"Iraq\",\n",
    "        \"Republic of Timor-Leste\": \"Timor-Leste\",\"UK\": \"United Kingdom\",\"Central Anatolia\": \"Turkey\",\n",
    "        \"Native Italian\": \"Italy\",\"Central German\": \"Germany\",\"Anvers\": \"Belgium\",\n",
    "    }\n",
    ")\n"
   ]
  },
  {
   "cell_type": "markdown",
   "id": "c6e2074d-3e54-4e1d-a07c-0040c7aa2c9d",
   "metadata": {},
   "source": [
    "Clean up white space and eliminate punctuation and prefixes from CombinedCountry column"
   ]
  },
  {
   "cell_type": "code",
   "execution_count": 13,
   "id": "84ae3bbd-b20f-46a7-a55a-a2c8f153a579",
   "metadata": {},
   "outputs": [],
   "source": [
    "met_df[\"CombinedCountry\"] = met_df[\"CombinedCountry\"].str.strip()\n",
    "met_df[\"CombinedCountry\"] = (\n",
    "    met_df[\"CombinedCountry\"].str.split(r\"[,/.:;?]| or| \\(\").str[0]\n",
    ")\n",
    "met_df[\"CombinedCountry\"] = met_df[\"CombinedCountry\"].str.lstrip(\"|\")\n",
    "met_df[\"CombinedCountry\"] = met_df[\"CombinedCountry\"].str.split(\"|\").str[0]\n",
    "\n",
    "met_df[\"CombinedCountry\"] = met_df[\"CombinedCountry\"].str.replace(\n",
    "    r\"^(northern|southern|eastern|east|probably|northeastern|northwest|northwestern|northeast|southeastern)\\s+\",\n",
    "    \"\",\n",
    "    case=False,\n",
    "    regex=True,\n",
    ")\n",
    "met_df[\"CombinedCountry\"] = met_df[\"CombinedCountry\"].str.replace(\n",
    "    r\"^(possibly|Byzantine|present-day|Colonial|north-central|)\\s+\",\n",
    "    \"\",\n",
    "    case=False,\n",
    "    regex=True,\n",
    ")"
   ]
  },
  {
   "cell_type": "markdown",
   "id": "b81d76b2-bb1a-49c6-804d-e97caf2e158f",
   "metadata": {},
   "source": [
    "Map CombinedCountry column to the country names dictionary"
   ]
  },
  {
   "cell_type": "code",
   "execution_count": 14,
   "id": "ad0fd7a3-1ab0-4489-bc75-d6a3a0d2bd24",
   "metadata": {},
   "outputs": [],
   "source": [
    "met_df[\"MappedCountry\"] = met_df[\"CombinedCountry\"].map(country_map)"
   ]
  },
  {
   "cell_type": "markdown",
   "id": "3757e43b-e4d4-4a5f-9b52-349189c56de0",
   "metadata": {},
   "source": [
    "Narrow down dataframe to columns necessary for analysis and visualization"
   ]
  },
  {
   "cell_type": "code",
   "execution_count": 15,
   "id": "a6a831de-a69c-4318-90f8-07a4a8a1c7de",
   "metadata": {},
   "outputs": [],
   "source": [
    "met_df = met_df[\n",
    "    [\n",
    "        \"Title\",\n",
    "        \"AccessionYear\",\n",
    "        \"Department\",\n",
    "        \"Country\",\n",
    "        \"Culture\",\n",
    "        \"Artist Nationality\",\n",
    "        \"Region\",\n",
    "        \"CombinedCountry\",\n",
    "        \"MappedCountry\",\n",
    "    ]\n",
    "]"
   ]
  },
  {
   "cell_type": "markdown",
   "id": "3bece4b1-bd06-41dd-a77e-438cb28e61ed",
   "metadata": {},
   "source": [
    "Check how many rows are still missing country information"
   ]
  },
  {
   "cell_type": "code",
   "execution_count": 16,
   "id": "c8d96cf0-b8c2-41ab-9088-f10d3e3b149e",
   "metadata": {
    "scrolled": true
   },
   "outputs": [
    {
     "data": {
      "text/plain": [
       "Title                   8884\n",
       "AccessionYear           1219\n",
       "Department                 0\n",
       "Country               126584\n",
       "Culture                85752\n",
       "Artist Nationality     62517\n",
       "Region                140290\n",
       "CombinedCountry         1718\n",
       "MappedCountry          12952\n",
       "dtype: int64"
      ]
     },
     "execution_count": 16,
     "metadata": {},
     "output_type": "execute_result"
    }
   ],
   "source": [
    "met_df.isna().sum()"
   ]
  },
  {
   "cell_type": "code",
   "execution_count": 17,
   "id": "50e9548f-1845-4c4e-9d73-b948868ed046",
   "metadata": {},
   "outputs": [
    {
     "data": {
      "text/html": [
       "<a href='../data/interim/CountriesCSV.csv' target='_blank'>../data/interim/CountriesCSV.csv</a><br>"
      ],
      "text/plain": [
       "/Users/mollystark/Desktop/michigan/milestone 1/SIADS-Milestone-1/src/data/interim/CountriesCSV.csv"
      ]
     },
     "execution_count": 17,
     "metadata": {},
     "output_type": "execute_result"
    }
   ],
   "source": [
    "# Convert cleaned country dataframe to downloadable CSV\n",
    "CountriesCSV = \"../data/interim/CountriesCSV.csv\"\n",
    "country_terms.to_csv(CountriesCSV)\n",
    "FileLink(CountriesCSV)"
   ]
  },
  {
   "cell_type": "code",
   "execution_count": 18,
   "id": "3012952c-8990-45a4-adcf-1180900ba4b9",
   "metadata": {},
   "outputs": [
    {
     "data": {
      "text/html": [
       "<a href='../data/interim/del_vals.csv' target='_blank'>../data/interim/del_vals.csv</a><br>"
      ],
      "text/plain": [
       "/Users/mollystark/Desktop/michigan/milestone 1/SIADS-Milestone-1/src/data/interim/del_vals.csv"
      ]
     },
     "execution_count": 18,
     "metadata": {},
     "output_type": "execute_result"
    }
   ],
   "source": [
    "# Gather values that were not mapped to a country to see if they can be added to dictionary manually\n",
    "deleted_vals = met_df[met_df[\"MappedCountry\"].isna()][\"CombinedCountry\"]\n",
    "deleted_vals\n",
    "\n",
    "# Convert deleted values dataframe to downloadable CSV for easy reading\n",
    "del_vals = \"../data/interim/del_vals.csv\"\n",
    "deleted_vals.to_csv(del_vals)\n",
    "FileLink(del_vals)"
   ]
  },
  {
   "cell_type": "markdown",
   "id": "92917c27-0138-4126-a719-5651bec5edcf",
   "metadata": {},
   "source": [
    "Adding in continent data using MappedCountry column"
   ]
  },
  {
   "cell_type": "code",
   "execution_count": 19,
   "id": "6b90a932-7155-48cf-9f5a-583393063b8c",
   "metadata": {},
   "outputs": [],
   "source": [
    "country_and_continent = []\n",
    "\n",
    "\n",
    "def country_to_continent(country_name):\n",
    "    try:\n",
    "        country_alpha2 = pc.country_name_to_country_alpha2(country_name)\n",
    "        country_continent_code = pc.country_alpha2_to_continent_code(country_alpha2)\n",
    "        country_continent_name = pc.convert_continent_code_to_continent_name(\n",
    "            country_continent_code\n",
    "        )\n",
    "        return country_continent_name\n",
    "    except KeyError:\n",
    "        return None\n",
    "\n",
    "\n",
    "countries_list = list(set(met_df[\"MappedCountry\"].dropna()))\n",
    "for i in range(len(countries_list)):\n",
    "    if country_to_continent(countries_list[i]) is not None:\n",
    "        country_and_continent.append(\n",
    "            (countries_list[i], country_to_continent(countries_list[i]))\n",
    "        )\n",
    "\n",
    "country_and_continent.append((\"Timor-Leste\", \"Asia\"))\n",
    "country_and_continent.append((\"DR Congo\", \"Africa\"))\n",
    "country_and_continent.append((\"Tibet\", \"Asia\"))"
   ]
  },
  {
   "cell_type": "code",
   "execution_count": 20,
   "id": "5f390694-dc40-4a89-96e1-5a934b8d81bd",
   "metadata": {},
   "outputs": [],
   "source": [
    "country_and_continent_df = pd.DataFrame(\n",
    "    country_and_continent, columns=[\"MappedCountry\", \"continent\"]\n",
    ").dropna()\n",
    "met_continent = pd.merge(\n",
    "    met_df, country_and_continent_df, on=\"MappedCountry\", how=\"left\"\n",
    ")"
   ]
  },
  {
   "cell_type": "markdown",
   "id": "45b03db7-a6aa-4006-8fe8-0303c9dcb88a",
   "metadata": {},
   "source": [
    "Changing column names for ease of use & readability"
   ]
  },
  {
   "cell_type": "code",
   "execution_count": 21,
   "id": "b09f6825-4b76-46ed-9014-ae857e8307fb",
   "metadata": {},
   "outputs": [
    {
     "data": {
      "text/plain": [
       "Index(['Title', 'AccessionYear', 'Department', 'Country', 'Culture',\n",
       "       'Artist Nationality', 'Region', 'CombinedCountry', 'MappedCountry',\n",
       "       'continent'],\n",
       "      dtype='object')"
      ]
     },
     "execution_count": 21,
     "metadata": {},
     "output_type": "execute_result"
    }
   ],
   "source": [
    "met_continent.columns"
   ]
  },
  {
   "cell_type": "code",
   "execution_count": 22,
   "id": "b95271f8-dea7-4b25-8560-f71417442e04",
   "metadata": {},
   "outputs": [],
   "source": [
    "met = met_continent.rename(\n",
    "    columns={\n",
    "        \"Title\": \"title\",\n",
    "        \"AccessionYear\": \"accession_year\",\n",
    "        \"Department\": \"department\",\n",
    "        \"Country\": \"listed_country\",\n",
    "        \"Culture\": \"culture\",\n",
    "        \"Artist Nationality\": \"artist_nationality\",\n",
    "        \"Region\": \"region\",\n",
    "        \"CombinedCountry\": \"combined_country\",\n",
    "        \"MappedCountry\": \"country\",\n",
    "    }\n",
    ")\n"
   ]
  },
  {
   "cell_type": "markdown",
   "id": "c0a2a8e0",
   "metadata": {},
   "source": [
    "Save final processed CSV file"
   ]
  },
  {
   "cell_type": "code",
   "execution_count": 23,
   "id": "5ed4de13-2a41-4320-8d19-30484abec32f",
   "metadata": {},
   "outputs": [],
   "source": [
    "met.to_csv(\"../data/processed/met_data.csv\")"
   ]
  },
  {
   "cell_type": "markdown",
   "id": "66b10f22-7511-4330-a105-3dd579fc59b8",
   "metadata": {
    "jp-MarkdownHeadingCollapsed": true
   },
   "source": [
    "### "
   ]
  },
  {
   "cell_type": "markdown",
   "id": "a9420e38-8587-4e5a-895b-cd7fc06db7b7",
   "metadata": {},
   "source": [
    "### "
   ]
  }
 ],
 "metadata": {
  "kernelspec": {
   "display_name": ".venv",
   "language": "python",
   "name": "python3"
  },
  "language_info": {
   "codemirror_mode": {
    "name": "ipython",
    "version": 3
   },
   "file_extension": ".py",
   "mimetype": "text/x-python",
   "name": "python",
   "nbconvert_exporter": "python",
   "pygments_lexer": "ipython3",
   "version": "3.13.0"
  }
 },
 "nbformat": 4,
 "nbformat_minor": 5
}
