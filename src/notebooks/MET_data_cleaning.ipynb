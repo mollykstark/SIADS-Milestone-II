{
 "cells": [
  {
   "cell_type": "markdown",
   "id": "7ef9a324-8296-41a8-8332-fef748f91605",
   "metadata": {},
   "source": [
    "# MET Database Cleaning - Milestone II"
   ]
  },
  {
   "cell_type": "markdown",
   "id": "eddc1e98",
   "metadata": {},
   "source": [
    "Very much a work in progress while we figure out what exactly we need out of the full dataset / what specific cleaning tasks we need to do"
   ]
  },
  {
   "cell_type": "code",
   "execution_count": null,
   "id": "83ab2931-373a-4eca-8541-ef7910e418bb",
   "metadata": {},
   "outputs": [],
   "source": [
    "from country_name import determine_met_country_names\n",
    "import pandas as pd"
   ]
  },
  {
   "cell_type": "markdown",
   "id": "b2a93c71",
   "metadata": {},
   "source": [
    "Read in full dataset from MET github"
   ]
  },
  {
   "cell_type": "code",
   "execution_count": 2,
   "id": "5efaff50",
   "metadata": {},
   "outputs": [
    {
     "name": "stderr",
     "output_type": "stream",
     "text": [
      "/var/folders/cy/f_z2j2b90rl7q8vz6jzfv__00000gn/T/ipykernel_20219/2058581641.py:1: DtypeWarning: Columns (5,7,10,11,12,13,14,34,35,36,37,38,39,40,41,42,43,44,45,46) have mixed types. Specify dtype option on import or set low_memory=False.\n",
      "  met = pd.read_csv('https://media.githubusercontent.com/media/metmuseum/openaccess/refs/heads/master/MetObjects.csv')\n"
     ]
    }
   ],
   "source": [
    "met = pd.read_csv('https://media.githubusercontent.com/media/metmuseum/openaccess/refs/heads/master/MetObjects.csv')"
   ]
  },
  {
   "cell_type": "markdown",
   "id": "a9e99d15",
   "metadata": {},
   "source": [
    "Normalize columns names for ease of use"
   ]
  },
  {
   "cell_type": "code",
   "execution_count": 3,
   "id": "340d8d56",
   "metadata": {},
   "outputs": [],
   "source": [
    "met = met.rename(columns={'Object ID':'object_id','Object Number': 'object_number', 'Is Highlight': 'is_highlight', 'Is Timeline Work': 'is_timeline_work', 'Is Public Domain': 'is_public_domain',\n",
    "       'Gallery Number':'gallery_number', 'Department':'department', 'AccessionYear':'accession_year', 'Object Name':'object_name', 'Title':'title',\n",
    "       'Culture':'culture', 'Period': 'period', 'Dynasty': 'dynasty', 'Reign': 'reign', 'Portfolio': 'portfolio', 'Constituent ID': 'constituent_id',\n",
    "       'Artist Role':'artist_role', 'Artist Prefix':'artist_prefix', 'Artist Display Name':'artist_display_name',\n",
    "       'Artist Display Bio': 'artist_display_bio', 'Artist Suffix':'artist_suffix', 'Artist Alpha Sort':'artist_alpha_sort',\n",
    "       'Artist Nationality':'artist_nationality', 'Artist Begin Date':'artist_begin_date', 'Artist End Date':'artist_end_date',\n",
    "       'Artist Gender':'artist_gender', 'Artist ULAN URL':'artist_ulan_url', 'Artist Wikidata URL':'artist_wikidata_url',\n",
    "       'Object Date':'object_date', 'Object Begin Date':'object_begin_date', 'Object End Date':'object_end_date', 'Medium':'medium',\n",
    "       'Dimensions':'dimensions', 'Credit Line':'credit_line', 'Geography Type':'geography_type', 'City':'city', 'State':'state',\n",
    "       'County':'county', 'Country':'country', 'Region':'region', 'Subregion':'subregion', 'Locale':'locale', 'Locus':'locus',\n",
    "       'Excavation':'excavation', 'River':'river', 'Classification':'classification', 'Rights and Reproduction':'rights_and_reproduction',\n",
    "       'Link Resource':'link_resource', 'Object Wikidata URL':'object_wikidata_url', 'Metadata Date':'metadata_date', 'Repository':'repository',\n",
    "       'Tags':'tags', 'Tags AAT URL':'tags_aat_url', 'Tags Wikidata URL':'tags_wikidata_url'})\n",
    "met.set_index('object_id', inplace=True)"
   ]
  },
  {
   "cell_type": "markdown",
   "id": "c36e71f1",
   "metadata": {},
   "source": [
    "Drop unnecessary columns (dropped columns listed in comments)"
   ]
  },
  {
   "cell_type": "code",
   "execution_count": 4,
   "id": "c1b7a7f5",
   "metadata": {},
   "outputs": [],
   "source": [
    "met = met[['object_number', 'is_highlight', 'is_timeline_work', 'is_public_domain',\n",
    "        'department', 'accession_year', 'object_name',\n",
    "       'title', 'culture', 'period', 'dynasty', 'reign', 'portfolio',\n",
    "       'constituent_id', 'artist_role', 'artist_prefix', 'artist_display_name',\n",
    "       'artist_display_bio', 'artist_suffix', \n",
    "       'artist_nationality', 'artist_begin_date', 'artist_end_date',\n",
    "       'artist_gender', 'country', 'region', 'subregion',\n",
    "       'object_date',  'medium',\n",
    "       'dimensions', 'classification', 'rights_and_reproduction',\n",
    "        'repository',\n",
    "       'tags']]\n",
    "\n",
    "# 'credit_line', 'geography_type', 'city', 'state','county', 'locale', 'locus','excavation', 'river',\n",
    "# 'tags_aat_url', 'tags_wikidata_url', 'object_wikidata_url', 'metadata_date', 'link_resource', 'object_begin_date', \n",
    "# 'object_end_date', 'artist_ulan_url', 'artist_wikidata_url', 'artist_alpha_sort', 'gallery_number',"
   ]
  },
  {
   "cell_type": "code",
   "execution_count": 5,
   "id": "595df6be",
   "metadata": {},
   "outputs": [
    {
     "data": {
      "text/html": [
       "<div>\n",
       "<style scoped>\n",
       "    .dataframe tbody tr th:only-of-type {\n",
       "        vertical-align: middle;\n",
       "    }\n",
       "\n",
       "    .dataframe tbody tr th {\n",
       "        vertical-align: top;\n",
       "    }\n",
       "\n",
       "    .dataframe thead th {\n",
       "        text-align: right;\n",
       "    }\n",
       "</style>\n",
       "<table border=\"1\" class=\"dataframe\">\n",
       "  <thead>\n",
       "    <tr style=\"text-align: right;\">\n",
       "      <th></th>\n",
       "      <th>object_number</th>\n",
       "      <th>is_highlight</th>\n",
       "      <th>is_timeline_work</th>\n",
       "      <th>is_public_domain</th>\n",
       "      <th>department</th>\n",
       "      <th>accession_year</th>\n",
       "      <th>object_name</th>\n",
       "      <th>title</th>\n",
       "      <th>culture</th>\n",
       "      <th>period</th>\n",
       "      <th>...</th>\n",
       "      <th>country</th>\n",
       "      <th>region</th>\n",
       "      <th>subregion</th>\n",
       "      <th>object_date</th>\n",
       "      <th>medium</th>\n",
       "      <th>dimensions</th>\n",
       "      <th>classification</th>\n",
       "      <th>rights_and_reproduction</th>\n",
       "      <th>repository</th>\n",
       "      <th>tags</th>\n",
       "    </tr>\n",
       "    <tr>\n",
       "      <th>object_id</th>\n",
       "      <th></th>\n",
       "      <th></th>\n",
       "      <th></th>\n",
       "      <th></th>\n",
       "      <th></th>\n",
       "      <th></th>\n",
       "      <th></th>\n",
       "      <th></th>\n",
       "      <th></th>\n",
       "      <th></th>\n",
       "      <th></th>\n",
       "      <th></th>\n",
       "      <th></th>\n",
       "      <th></th>\n",
       "      <th></th>\n",
       "      <th></th>\n",
       "      <th></th>\n",
       "      <th></th>\n",
       "      <th></th>\n",
       "      <th></th>\n",
       "      <th></th>\n",
       "    </tr>\n",
       "  </thead>\n",
       "  <tbody>\n",
       "    <tr>\n",
       "      <th>1</th>\n",
       "      <td>1979.486.1</td>\n",
       "      <td>False</td>\n",
       "      <td>False</td>\n",
       "      <td>False</td>\n",
       "      <td>The American Wing</td>\n",
       "      <td>1979.0</td>\n",
       "      <td>Coin</td>\n",
       "      <td>One-dollar Liberty Head Coin</td>\n",
       "      <td>NaN</td>\n",
       "      <td>NaN</td>\n",
       "      <td>...</td>\n",
       "      <td>NaN</td>\n",
       "      <td>NaN</td>\n",
       "      <td>NaN</td>\n",
       "      <td>1853</td>\n",
       "      <td>Gold</td>\n",
       "      <td>Dimensions unavailable</td>\n",
       "      <td>NaN</td>\n",
       "      <td>NaN</td>\n",
       "      <td>Metropolitan Museum of Art, New York, NY</td>\n",
       "      <td>NaN</td>\n",
       "    </tr>\n",
       "    <tr>\n",
       "      <th>2</th>\n",
       "      <td>1980.264.5</td>\n",
       "      <td>False</td>\n",
       "      <td>False</td>\n",
       "      <td>False</td>\n",
       "      <td>The American Wing</td>\n",
       "      <td>1980.0</td>\n",
       "      <td>Coin</td>\n",
       "      <td>Ten-dollar Liberty Head Coin</td>\n",
       "      <td>NaN</td>\n",
       "      <td>NaN</td>\n",
       "      <td>...</td>\n",
       "      <td>NaN</td>\n",
       "      <td>NaN</td>\n",
       "      <td>NaN</td>\n",
       "      <td>1901</td>\n",
       "      <td>Gold</td>\n",
       "      <td>Dimensions unavailable</td>\n",
       "      <td>NaN</td>\n",
       "      <td>NaN</td>\n",
       "      <td>Metropolitan Museum of Art, New York, NY</td>\n",
       "      <td>NaN</td>\n",
       "    </tr>\n",
       "    <tr>\n",
       "      <th>3</th>\n",
       "      <td>67.265.9</td>\n",
       "      <td>False</td>\n",
       "      <td>False</td>\n",
       "      <td>False</td>\n",
       "      <td>The American Wing</td>\n",
       "      <td>1967.0</td>\n",
       "      <td>Coin</td>\n",
       "      <td>Two-and-a-Half Dollar Coin</td>\n",
       "      <td>NaN</td>\n",
       "      <td>NaN</td>\n",
       "      <td>...</td>\n",
       "      <td>NaN</td>\n",
       "      <td>NaN</td>\n",
       "      <td>NaN</td>\n",
       "      <td>1909–27</td>\n",
       "      <td>Gold</td>\n",
       "      <td>Diam. 11/16 in. (1.7 cm)</td>\n",
       "      <td>NaN</td>\n",
       "      <td>NaN</td>\n",
       "      <td>Metropolitan Museum of Art, New York, NY</td>\n",
       "      <td>NaN</td>\n",
       "    </tr>\n",
       "    <tr>\n",
       "      <th>4</th>\n",
       "      <td>67.265.10</td>\n",
       "      <td>False</td>\n",
       "      <td>False</td>\n",
       "      <td>False</td>\n",
       "      <td>The American Wing</td>\n",
       "      <td>1967.0</td>\n",
       "      <td>Coin</td>\n",
       "      <td>Two-and-a-Half Dollar Coin</td>\n",
       "      <td>NaN</td>\n",
       "      <td>NaN</td>\n",
       "      <td>...</td>\n",
       "      <td>NaN</td>\n",
       "      <td>NaN</td>\n",
       "      <td>NaN</td>\n",
       "      <td>1909–27</td>\n",
       "      <td>Gold</td>\n",
       "      <td>Diam. 11/16 in. (1.7 cm)</td>\n",
       "      <td>NaN</td>\n",
       "      <td>NaN</td>\n",
       "      <td>Metropolitan Museum of Art, New York, NY</td>\n",
       "      <td>NaN</td>\n",
       "    </tr>\n",
       "    <tr>\n",
       "      <th>5</th>\n",
       "      <td>67.265.11</td>\n",
       "      <td>False</td>\n",
       "      <td>False</td>\n",
       "      <td>False</td>\n",
       "      <td>The American Wing</td>\n",
       "      <td>1967.0</td>\n",
       "      <td>Coin</td>\n",
       "      <td>Two-and-a-Half Dollar Coin</td>\n",
       "      <td>NaN</td>\n",
       "      <td>NaN</td>\n",
       "      <td>...</td>\n",
       "      <td>NaN</td>\n",
       "      <td>NaN</td>\n",
       "      <td>NaN</td>\n",
       "      <td>1909–27</td>\n",
       "      <td>Gold</td>\n",
       "      <td>Diam. 11/16 in. (1.7 cm)</td>\n",
       "      <td>NaN</td>\n",
       "      <td>NaN</td>\n",
       "      <td>Metropolitan Museum of Art, New York, NY</td>\n",
       "      <td>NaN</td>\n",
       "    </tr>\n",
       "  </tbody>\n",
       "</table>\n",
       "<p>5 rows × 33 columns</p>\n",
       "</div>"
      ],
      "text/plain": [
       "          object_number  is_highlight  is_timeline_work  is_public_domain  \\\n",
       "object_id                                                                   \n",
       "1            1979.486.1         False             False             False   \n",
       "2            1980.264.5         False             False             False   \n",
       "3              67.265.9         False             False             False   \n",
       "4             67.265.10         False             False             False   \n",
       "5             67.265.11         False             False             False   \n",
       "\n",
       "                  department accession_year object_name  \\\n",
       "object_id                                                 \n",
       "1          The American Wing         1979.0        Coin   \n",
       "2          The American Wing         1980.0        Coin   \n",
       "3          The American Wing         1967.0        Coin   \n",
       "4          The American Wing         1967.0        Coin   \n",
       "5          The American Wing         1967.0        Coin   \n",
       "\n",
       "                                  title culture period  ... country region  \\\n",
       "object_id                                               ...                  \n",
       "1          One-dollar Liberty Head Coin     NaN    NaN  ...     NaN    NaN   \n",
       "2          Ten-dollar Liberty Head Coin     NaN    NaN  ...     NaN    NaN   \n",
       "3            Two-and-a-Half Dollar Coin     NaN    NaN  ...     NaN    NaN   \n",
       "4            Two-and-a-Half Dollar Coin     NaN    NaN  ...     NaN    NaN   \n",
       "5            Two-and-a-Half Dollar Coin     NaN    NaN  ...     NaN    NaN   \n",
       "\n",
       "          subregion object_date medium                dimensions  \\\n",
       "object_id                                                          \n",
       "1               NaN        1853   Gold    Dimensions unavailable   \n",
       "2               NaN        1901   Gold    Dimensions unavailable   \n",
       "3               NaN     1909–27   Gold  Diam. 11/16 in. (1.7 cm)   \n",
       "4               NaN     1909–27   Gold  Diam. 11/16 in. (1.7 cm)   \n",
       "5               NaN     1909–27   Gold  Diam. 11/16 in. (1.7 cm)   \n",
       "\n",
       "          classification rights_and_reproduction  \\\n",
       "object_id                                          \n",
       "1                    NaN                     NaN   \n",
       "2                    NaN                     NaN   \n",
       "3                    NaN                     NaN   \n",
       "4                    NaN                     NaN   \n",
       "5                    NaN                     NaN   \n",
       "\n",
       "                                         repository tags  \n",
       "object_id                                                 \n",
       "1          Metropolitan Museum of Art, New York, NY  NaN  \n",
       "2          Metropolitan Museum of Art, New York, NY  NaN  \n",
       "3          Metropolitan Museum of Art, New York, NY  NaN  \n",
       "4          Metropolitan Museum of Art, New York, NY  NaN  \n",
       "5          Metropolitan Museum of Art, New York, NY  NaN  \n",
       "\n",
       "[5 rows x 33 columns]"
      ]
     },
     "execution_count": 5,
     "metadata": {},
     "output_type": "execute_result"
    }
   ],
   "source": [
    "met.head()"
   ]
  },
  {
   "cell_type": "code",
   "execution_count": 6,
   "id": "5f62ac07",
   "metadata": {},
   "outputs": [],
   "source": [
    "met['is_significant'] = met['is_timeline_work'] | met['is_highlight']"
   ]
  },
  {
   "cell_type": "code",
   "execution_count": 10,
   "id": "5cc285bf",
   "metadata": {},
   "outputs": [],
   "source": [
    "met = determine_met_country_names(met, \"../data/interim/countries.csv\")"
   ]
  },
  {
   "cell_type": "markdown",
   "id": "66b10f22-7511-4330-a105-3dd579fc59b8",
   "metadata": {
    "jp-MarkdownHeadingCollapsed": true
   },
   "source": [
    "### "
   ]
  },
  {
   "cell_type": "markdown",
   "id": "976813ce",
   "metadata": {},
   "source": [
    "next steps: determine which columns we want to use to train our classifier (determine column independence, etc)"
   ]
  },
  {
   "cell_type": "markdown",
   "id": "a9420e38-8587-4e5a-895b-cd7fc06db7b7",
   "metadata": {},
   "source": [
    "### "
   ]
  }
 ],
 "metadata": {
  "kernelspec": {
   "display_name": ".venv",
   "language": "python",
   "name": "python3"
  },
  "language_info": {
   "codemirror_mode": {
    "name": "ipython",
    "version": 3
   },
   "file_extension": ".py",
   "mimetype": "text/x-python",
   "name": "python",
   "nbconvert_exporter": "python",
   "pygments_lexer": "ipython3",
   "version": "3.13.0"
  }
 },
 "nbformat": 4,
 "nbformat_minor": 5
}
